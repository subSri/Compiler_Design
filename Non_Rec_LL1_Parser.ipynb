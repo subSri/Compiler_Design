{
 "cells": [
  {
   "cell_type": "code",
   "execution_count": null,
   "metadata": {},
   "outputs": [
    {
     "name": "stdout",
     "output_type": "stream",
     "text": [
      "Enter lhs of produtionid + id * id\n",
      "Enter rhs to:  id + id * id\n"
     ]
    }
   ],
   "source": [
    "#Add your productions \n",
    "\n",
    "from collections import defaultdict\n",
    "prod=defaultdict()\n",
    "\n",
    "ch=\"y\"\n",
    "ch1=\"y\"\n",
    "while(ch==\"y\"):\n",
    "    lhs = input(\"Enter lhs of prodution\")\n",
    "    print(\"Enter rhs to: \",lhs)\n",
    "    if lhs not in prod:\n",
    "        prod[lhs]=[]\n",
    "        ch1 = input(\"Add rhs?\")\n",
    "    while(ch1==\"y\"):\n",
    "        \n",
    "        prod[lhs].append(list(map(str,input(\"Enter Space seperated tokens of each production\").split())))\n",
    "        ch1 = input(\"More rhs?\")\n",
    "    ch=input(\"Enter more lhs ?y or n?\")\n",
    "print(prod)\n",
    "        \n",
    "    "
   ]
  },
  {
   "cell_type": "code",
   "execution_count": 1,
   "metadata": {},
   "outputs": [],
   "source": [
    "def isNonTerminal(tok):\n",
    "    bi=[\"E\",\"E1\",\"T\",\"T1\",\"T2\",\"R\",\"F\"]\n",
    "    if tok in bi:\n",
    "        return True\n",
    "    else:\n",
    "        return False"
   ]
  },
  {
   "cell_type": "code",
   "execution_count": 2,
   "metadata": {},
   "outputs": [],
   "source": [
    "def isTerminal(tok):\n",
    "    li = [\"+\",\"-\",\"/\",\"*\",\"^\",\"id\",\"(\",\")\"]\n",
    "    if tok in li:\n",
    "        return True\n",
    "    else:\n",
    "        return False"
   ]
  },
  {
   "cell_type": "code",
   "execution_count": 3,
   "metadata": {},
   "outputs": [],
   "source": [
    "prod = {\"E\": [[\"T\", \"E1\"]], \"E1\": [[\"+\", \"T\", \"E1\"], [\"eps\"], [\"-\", \"T\", \"E1\"]], \"T\": [[\"R\", \"T1\"]], \"T1\": [[\"*\", \"R\", \"T1\"], [\"/\", \"R\", \"T1\"], [\"eps\"]], \"T2\": [[\"^\", \"F\", \"T2\"], [\"eps\"]], \"R\": [[\"F\", \"T2\"]], \"F\": [[\"(\", \"E\", \")\"], [\"id\"]]}"
   ]
  },
  {
   "cell_type": "code",
   "execution_count": 4,
   "metadata": {},
   "outputs": [],
   "source": [
    " prodnew={\n",
    "        \"E\" : [ [\"T\",\"E1\"] ],\n",
    "        \"T\" : [ [\"F\",\"T1\"] ],\n",
    "        \"F\" : [ [\"id\"], [\"(\",\"E\",\")\"] ],\n",
    "        \"E1\": [ [\"+\",\"T\",\"E1\"], [\"-\",\"T\",\"E1\"], [\"eps\"] ],\n",
    "        \"T1\": [ [\"*\",\"F\",\"T1\"], [\"/\",\"F\",\"T1\"], [\"eps\"], [\"^\",\"F\",\"T1\"] ]\n",
    "    }\n"
   ]
  },
  {
   "cell_type": "code",
   "execution_count": null,
   "metadata": {},
   "outputs": [],
   "source": []
  },
  {
   "cell_type": "code",
   "execution_count": 5,
   "metadata": {},
   "outputs": [],
   "source": [
    "def FirstSet(NT):\n",
    "     \n",
    "        for j in prod[NT]:\n",
    "            for token in range(len(j)):\n",
    "                \n",
    "                if isTerminal(j[token]):\n",
    "                    first[NT].add(j[token])\n",
    "                    break\n",
    "                elif j[token]==\"eps\":\n",
    "                    first[NT].add(\"eps\")\n",
    "                    break\n",
    "                elif isNonTerminal(j[token]):\n",
    "                    temp = FirstSet(j[token])\n",
    "                    if \"eps\" in temp:\n",
    "                        print(\"Adding4\",temp)\n",
    "                        first[NT]=first[NT].union(temp)\n",
    "                        first[NT].remove(\"eps\")\n",
    "                        if len(j)==token+1:\n",
    "                            first[NT].add(\"eps\")\n",
    "                            break\n",
    "                        \n",
    "                    else:\n",
    "#                         k=FirstSet(j[token])\n",
    "                        print(\"Adding5\",temp)\n",
    "                        first[NT]=first[NT].union(temp)\n",
    "                        print(first[NT])\n",
    "                        break\n",
    "        return first[NT] \n",
    "                    "
   ]
  },
  {
   "cell_type": "code",
   "execution_count": 6,
   "metadata": {},
   "outputs": [
    {
     "name": "stdout",
     "output_type": "stream",
     "text": [
      "Adding5 {'id', '('}\n",
      "{'id', '('}\n",
      "Adding5 {'id', '('}\n",
      "{'id', '('}\n",
      "FirstSet T is:  {'id', '('}\n",
      "Adding5 {'id', '('}\n",
      "{'id', '('}\n",
      "Adding5 {'id', '('}\n",
      "{'id', '('}\n",
      "Adding5 {'id', '('}\n",
      "{'id', '('}\n",
      "FirstSet E is:  {'id', '('}\n",
      "FirstSet E1 is:  {'eps', '+', '-'}\n",
      "FirstSet T1 is:  {'eps', '/', '*'}\n",
      "FirstSet T2 is:  {'eps', '^'}\n",
      "Adding5 {'id', '('}\n",
      "{'id', '('}\n",
      "FirstSet R is:  {'id', '('}\n",
      "FirstSet F is:  {'id', '('}\n"
     ]
    }
   ],
   "source": [
    "#Defining First and Follow defs\n",
    "\n",
    "first={}\n",
    "follow={}\n",
    "for i in prod.keys():\n",
    "    first[i]=set()\n",
    "    follow[i]=set()\n",
    "\n",
    "\n",
    "\n",
    "print(\"FirstSet T is: \",FirstSet(\"T\"))\n",
    "print(\"FirstSet E is: \",FirstSet(\"E\"))\n",
    "print(\"FirstSet E1 is: \",FirstSet(\"E1\"))\n",
    "print(\"FirstSet T1 is: \",FirstSet(\"T1\"))\n",
    "print(\"FirstSet T2 is: \",FirstSet(\"T2\"))\n",
    "print(\"FirstSet R is: \",FirstSet(\"R\"))\n",
    "print(\"FirstSet F is: \",FirstSet(\"F\"))"
   ]
  },
  {
   "cell_type": "code",
   "execution_count": 7,
   "metadata": {},
   "outputs": [],
   "source": [
    "def FollowSet(NT):\n",
    "   \n",
    "    for i in prod:\n",
    "        for j in prod[i]:\n",
    "            for token in range(len(j)):\n",
    "                if i==\"E\":\n",
    "                    if j[token]==NT:\n",
    "#                         print(token+1)\n",
    "#                         print(j)\n",
    "                        if len(j)>token+1:\n",
    "#                             print(\"Token\",token+1,\"j\",j)\n",
    "                            if isTerminal(j[token+1]):\n",
    "                                print(\"Added1\",j[token+1])\n",
    "                                follow[NT].add(j[token+1])\n",
    "                                break\n",
    "                            elif isNonTerminal(j[token+1]):\n",
    "                                print(\"Added2\",first[j[token+1]])\n",
    "                                follow[NT]=follow[NT].union(first[j[token+1]])#FiestSet se epsilon remove krna h naaki neeche se\n",
    "                                if \"eps\" in follow[NT]:\n",
    "                                    follow[NT].remove(\"eps\")\n",
    "                                break\n",
    "                        else:\n",
    "                            print(\"Added2.5\",follow[i])\n",
    "                            if i!=NT:\n",
    "                                follow[NT]=follow[NT].union(FollowSet(i))\n",
    "                            break\n",
    "                elif j[0]!=\"eps\":\n",
    "                     if j[token]==NT:\n",
    "                        if len(j)>token+1:\n",
    "                            if isTerminal(j[token+1]):\n",
    "                                print(\"Added3\",j[token+1])\n",
    "                                follow[NT].add(j[token+1])\n",
    "                                break\n",
    "                            elif isNonTerminal(j[token+1]):\n",
    "                                \n",
    "                                if \"eps\" not in first[j[token+1]]:\n",
    "                                    print(\"Added4\",first[j[token+1]])\n",
    "                                    follow[NT]=follow[NT].union(first[j[token+1]])\n",
    "                                    \n",
    "                                    #FiestSet se epsilon remove krna h naaki neeche se\n",
    "                                else:\n",
    "                                    print(\"Added4.5\",first[j[token+1]])\n",
    "                                    follow[NT]=follow[NT].union(first[j[token+1]])\n",
    "                                    if \"eps\" in follow[NT]:\n",
    "                                        follow[NT].remove(\"eps\")\n",
    "                                    if i!=NT:\n",
    "                                        follow[NT]=follow[NT].union(FollowSet(i))\n",
    "                                \n",
    "                                break\n",
    "                        else:\n",
    "                            print(\"Added5\",follow[NT])\n",
    "                            if i!=NT:\n",
    "                                follow[NT]=follow[NT].union(FollowSet(i))\n",
    "                            break\n",
    "    return follow[NT]\n",
    "                            "
   ]
  },
  {
   "cell_type": "code",
   "execution_count": 8,
   "metadata": {},
   "outputs": [
    {
     "name": "stdout",
     "output_type": "stream",
     "text": [
      "Added3 )\n",
      "{')', '$'}\n"
     ]
    }
   ],
   "source": [
    "follow[\"E\"].add('$')\n",
    "FollowSet(\"E\")\n",
    "print(follow[\"E\"])"
   ]
  },
  {
   "cell_type": "code",
   "execution_count": 9,
   "metadata": {},
   "outputs": [
    {
     "name": "stdout",
     "output_type": "stream",
     "text": [
      "Added2.5 {')', '$'}\n",
      "Added3 )\n",
      "Added5 {')', '$'}\n",
      "Added5 {')', '$'}\n",
      "{')', '$'}\n"
     ]
    }
   ],
   "source": [
    "FollowSet(\"E1\")\n",
    "print(follow[\"E1\"])"
   ]
  },
  {
   "cell_type": "code",
   "execution_count": 10,
   "metadata": {},
   "outputs": [
    {
     "name": "stdout",
     "output_type": "stream",
     "text": [
      "Added2 {'eps', '+', '-'}\n",
      "Added4.5 {'eps', '+', '-'}\n",
      "Added2.5 {')', '$'}\n",
      "Added3 )\n",
      "Added5 {')', '$'}\n",
      "Added5 {')', '$'}\n",
      "Added4.5 {'eps', '+', '-'}\n",
      "Added2.5 {')', '$'}\n",
      "Added3 )\n",
      "Added5 {')', '$'}\n",
      "Added5 {')', '$'}\n",
      "{')', '$', '+', '-'}\n"
     ]
    }
   ],
   "source": [
    "FollowSet(\"T\")\n",
    "print(follow[\"T\"])"
   ]
  },
  {
   "cell_type": "code",
   "execution_count": 11,
   "metadata": {},
   "outputs": [
    {
     "name": "stdout",
     "output_type": "stream",
     "text": [
      "Added5 set()\n",
      "Added2 {'eps', '+', '-'}\n",
      "Added4.5 {'eps', '+', '-'}\n",
      "Added2.5 {')', '$'}\n",
      "Added3 )\n",
      "Added5 {')', '$'}\n",
      "Added5 {')', '$'}\n",
      "Added4.5 {'eps', '+', '-'}\n",
      "Added2.5 {')', '$'}\n",
      "Added3 )\n",
      "Added5 {')', '$'}\n",
      "Added5 {')', '$'}\n",
      "Added5 {')', '$', '+', '-'}\n",
      "Added5 {')', '$', '+', '-'}\n",
      "{')', '$', '+', '-'}\n"
     ]
    }
   ],
   "source": [
    "FollowSet(\"T1\")\n",
    "print(follow[\"T1\"])"
   ]
  },
  {
   "cell_type": "code",
   "execution_count": 12,
   "metadata": {},
   "outputs": [
    {
     "name": "stdout",
     "output_type": "stream",
     "text": [
      "Added4.5 {'eps', '/', '*'}\n",
      "Added2 {'eps', '+', '-'}\n",
      "Added4.5 {'eps', '+', '-'}\n",
      "Added2.5 {')', '$'}\n",
      "Added3 )\n",
      "Added5 {')', '$'}\n",
      "Added5 {')', '$'}\n",
      "Added4.5 {'eps', '+', '-'}\n",
      "Added2.5 {')', '$'}\n",
      "Added3 )\n",
      "Added5 {')', '$'}\n",
      "Added5 {')', '$'}\n",
      "Added4.5 {'eps', '/', '*'}\n",
      "Added5 {')', '$', '+', '-'}\n",
      "Added2 {'eps', '+', '-'}\n",
      "Added4.5 {'eps', '+', '-'}\n",
      "Added2.5 {')', '$'}\n",
      "Added3 )\n",
      "Added5 {')', '$'}\n",
      "Added5 {')', '$'}\n",
      "Added4.5 {'eps', '+', '-'}\n",
      "Added2.5 {')', '$'}\n",
      "Added3 )\n",
      "Added5 {')', '$'}\n",
      "Added5 {')', '$'}\n",
      "Added5 {'$', ')', '+', '-'}\n",
      "Added5 {'$', ')', '+', '-'}\n",
      "Added4.5 {'eps', '/', '*'}\n",
      "Added5 {'$', ')', '+', '-'}\n",
      "Added2 {'eps', '+', '-'}\n",
      "Added4.5 {'eps', '+', '-'}\n",
      "Added2.5 {')', '$'}\n",
      "Added3 )\n",
      "Added5 {')', '$'}\n",
      "Added5 {')', '$'}\n",
      "Added4.5 {'eps', '+', '-'}\n",
      "Added2.5 {')', '$'}\n",
      "Added3 )\n",
      "Added5 {')', '$'}\n",
      "Added5 {')', '$'}\n",
      "Added5 {'$', ')', '+', '-'}\n",
      "Added5 {'$', ')', '+', '-'}\n",
      "{'$', '*', ')', '/', '+', '-'}\n"
     ]
    }
   ],
   "source": [
    "FollowSet(\"R\")\n",
    "print(follow['R'])"
   ]
  },
  {
   "cell_type": "code",
   "execution_count": 13,
   "metadata": {},
   "outputs": [
    {
     "name": "stdout",
     "output_type": "stream",
     "text": [
      "Added4.5 {'eps', '^'}\n",
      "Added5 set()\n",
      "Added5 set()\n",
      "Added4.5 {'eps', '/', '*'}\n",
      "Added2 {'eps', '+', '-'}\n",
      "Added4.5 {'eps', '+', '-'}\n",
      "Added2.5 {')', '$'}\n",
      "Added3 )\n",
      "Added5 {')', '$'}\n",
      "Added5 {')', '$'}\n",
      "Added4.5 {'eps', '+', '-'}\n",
      "Added2.5 {')', '$'}\n",
      "Added3 )\n",
      "Added5 {')', '$'}\n",
      "Added5 {')', '$'}\n",
      "Added4.5 {'eps', '/', '*'}\n",
      "Added5 {'$', ')', '+', '-'}\n",
      "Added2 {'eps', '+', '-'}\n",
      "Added4.5 {'eps', '+', '-'}\n",
      "Added2.5 {')', '$'}\n",
      "Added3 )\n",
      "Added5 {')', '$'}\n",
      "Added5 {')', '$'}\n",
      "Added4.5 {'eps', '+', '-'}\n",
      "Added2.5 {')', '$'}\n",
      "Added3 )\n",
      "Added5 {')', '$'}\n",
      "Added5 {')', '$'}\n",
      "Added5 {'$', ')', '+', '-'}\n",
      "Added5 {'$', ')', '+', '-'}\n",
      "Added4.5 {'eps', '/', '*'}\n",
      "Added5 {'$', ')', '+', '-'}\n",
      "Added2 {'eps', '+', '-'}\n",
      "Added4.5 {'eps', '+', '-'}\n",
      "Added2.5 {')', '$'}\n",
      "Added3 )\n",
      "Added5 {')', '$'}\n",
      "Added5 {')', '$'}\n",
      "Added4.5 {'eps', '+', '-'}\n",
      "Added2.5 {')', '$'}\n",
      "Added3 )\n",
      "Added5 {')', '$'}\n",
      "Added5 {')', '$'}\n",
      "Added5 {'$', ')', '+', '-'}\n",
      "Added5 {'$', ')', '+', '-'}\n",
      "Added4.5 {'eps', '^'}\n",
      "Added4.5 {'eps', '/', '*'}\n",
      "Added2 {'eps', '+', '-'}\n",
      "Added4.5 {'eps', '+', '-'}\n",
      "Added2.5 {')', '$'}\n",
      "Added3 )\n",
      "Added5 {')', '$'}\n",
      "Added5 {')', '$'}\n",
      "Added4.5 {'eps', '+', '-'}\n",
      "Added2.5 {')', '$'}\n",
      "Added3 )\n",
      "Added5 {')', '$'}\n",
      "Added5 {')', '$'}\n",
      "Added4.5 {'eps', '/', '*'}\n",
      "Added5 {'$', ')', '+', '-'}\n",
      "Added2 {'eps', '+', '-'}\n",
      "Added4.5 {'eps', '+', '-'}\n",
      "Added2.5 {')', '$'}\n",
      "Added3 )\n",
      "Added5 {')', '$'}\n",
      "Added5 {')', '$'}\n",
      "Added4.5 {'eps', '+', '-'}\n",
      "Added2.5 {')', '$'}\n",
      "Added3 )\n",
      "Added5 {')', '$'}\n",
      "Added5 {')', '$'}\n",
      "Added5 {'$', ')', '+', '-'}\n",
      "Added5 {'$', ')', '+', '-'}\n",
      "Added4.5 {'eps', '/', '*'}\n",
      "Added5 {'$', ')', '+', '-'}\n",
      "Added2 {'eps', '+', '-'}\n",
      "Added4.5 {'eps', '+', '-'}\n",
      "Added2.5 {')', '$'}\n",
      "Added3 )\n",
      "Added5 {')', '$'}\n",
      "Added5 {')', '$'}\n",
      "Added4.5 {'eps', '+', '-'}\n",
      "Added2.5 {')', '$'}\n",
      "Added3 )\n",
      "Added5 {')', '$'}\n",
      "Added5 {')', '$'}\n",
      "Added5 {'$', ')', '+', '-'}\n",
      "Added5 {'$', ')', '+', '-'}\n",
      "{'$', '*', ')', '/', '^', '+', '-'}\n"
     ]
    }
   ],
   "source": [
    "FollowSet('F')\n",
    "print(follow['F'])"
   ]
  },
  {
   "cell_type": "code",
   "execution_count": 14,
   "metadata": {},
   "outputs": [
    {
     "name": "stdout",
     "output_type": "stream",
     "text": [
      "Added5 {')', '$', '/', '+', '-', '*'}\n",
      "Added5 {')', '$', '/', '+', '-', '*'}\n",
      "Added4.5 {'eps', '/', '*'}\n",
      "Added2 {'eps', '+', '-'}\n",
      "Added4.5 {'eps', '+', '-'}\n",
      "Added2.5 {')', '$'}\n",
      "Added3 )\n",
      "Added5 {')', '$'}\n",
      "Added5 {')', '$'}\n",
      "Added4.5 {'eps', '+', '-'}\n",
      "Added2.5 {')', '$'}\n",
      "Added3 )\n",
      "Added5 {')', '$'}\n",
      "Added5 {')', '$'}\n",
      "Added4.5 {'eps', '/', '*'}\n",
      "Added5 {'$', ')', '+', '-'}\n",
      "Added2 {'eps', '+', '-'}\n",
      "Added4.5 {'eps', '+', '-'}\n",
      "Added2.5 {')', '$'}\n",
      "Added3 )\n",
      "Added5 {')', '$'}\n",
      "Added5 {')', '$'}\n",
      "Added4.5 {'eps', '+', '-'}\n",
      "Added2.5 {')', '$'}\n",
      "Added3 )\n",
      "Added5 {')', '$'}\n",
      "Added5 {')', '$'}\n",
      "Added5 {'$', ')', '+', '-'}\n",
      "Added5 {'$', ')', '+', '-'}\n",
      "Added4.5 {'eps', '/', '*'}\n",
      "Added5 {'$', ')', '+', '-'}\n",
      "Added2 {'eps', '+', '-'}\n",
      "Added4.5 {'eps', '+', '-'}\n",
      "Added2.5 {')', '$'}\n",
      "Added3 )\n",
      "Added5 {')', '$'}\n",
      "Added5 {')', '$'}\n",
      "Added4.5 {'eps', '+', '-'}\n",
      "Added2.5 {')', '$'}\n",
      "Added3 )\n",
      "Added5 {')', '$'}\n",
      "Added5 {')', '$'}\n",
      "Added5 {'$', ')', '+', '-'}\n",
      "Added5 {'$', ')', '+', '-'}\n",
      "{'$', '*', ')', '/', '+', '-'}\n"
     ]
    }
   ],
   "source": [
    "FollowSet('T2')\n",
    "print(follow['T2'])"
   ]
  },
  {
   "cell_type": "code",
   "execution_count": null,
   "metadata": {},
   "outputs": [],
   "source": []
  },
  {
   "cell_type": "code",
   "execution_count": 15,
   "metadata": {
    "scrolled": true
   },
   "outputs": [
    {
     "name": "stdout",
     "output_type": "stream",
     "text": [
      "E : {'id': ['T', 'E1'], '(': ['T', 'E1']} \n",
      "\n",
      "E1 : {'+': ['+', 'T', 'E1'], ')': ['eps'], '$': ['eps'], '-': ['-', 'T', 'E1']} \n",
      "\n",
      "T : {'id': ['R', 'T1'], '(': ['R', 'T1']} \n",
      "\n",
      "T1 : {'*': ['*', 'R', 'T1'], '/': ['/', 'R', 'T1'], '$': ['eps'], ')': ['eps'], '+': ['eps'], '-': ['eps']} \n",
      "\n",
      "T2 : {'^': ['^', 'F', 'T2'], '$': ['eps'], '*': ['eps'], ')': ['eps'], '/': ['eps'], '+': ['eps'], '-': ['eps']} \n",
      "\n",
      "R : {'id': ['F', 'T2'], '(': ['F', 'T2']} \n",
      "\n",
      "F : {'(': ['(', 'E', ')'], 'id': ['id']} \n",
      "\n"
     ]
    }
   ],
   "source": [
    "#Making LL1 Parsing Table\n",
    "\n",
    "parsing_table = {}\n",
    "\n",
    "for i in prod:\n",
    "    parsing_table[i] = dict()\n",
    "    for j in prod[i]:\n",
    "        if j[0]==\"eps\":\n",
    "            for fol in follow[i]: \n",
    "                parsing_table[i][fol]= [\"eps\"]\n",
    "        elif isTerminal(j[0]):\n",
    "            parsing_table[i][j[0]] = j\n",
    "        else:\n",
    "            for item in first[j[0]]:\n",
    "                if item == 'eps':\n",
    "                    for fol in follow[i]:\n",
    "                        \n",
    "                        parsing_table[i][fol]= [\"eps\"]\n",
    "                else:\n",
    "                    parsing_table[i][item] = j\n",
    "\n",
    "for key,value in parsing_table.items():\n",
    "    \n",
    "    print(key,\":\",value,'\\n')\n",
    "                \n",
    "            \n",
    "        \n",
    "        \n"
   ]
  },
  {
   "cell_type": "code",
   "execution_count": 27,
   "metadata": {},
   "outputs": [
    {
     "name": "stdout",
     "output_type": "stream",
     "text": [
      "Enter a string input to be parsed( ( ( ( id ) ) ) $\n"
     ]
    }
   ],
   "source": [
    "#Making LL! Parser\n",
    "parsethis = list(map(str,input(\"Enter a string input to be parsed\").split()))\n"
   ]
  },
  {
   "cell_type": "code",
   "execution_count": 28,
   "metadata": {},
   "outputs": [
    {
     "name": "stdout",
     "output_type": "stream",
     "text": [
      "stak-1  ['$', 'E']  point  (\n",
      "stak-1  ['$', 'E1', 'T']  point  (\n",
      "stak-1  ['$', 'E1', 'T1', 'R']  point  (\n",
      "stak-1  ['$', 'E1', 'T1', 'T2', 'F']  point  (\n",
      "(\n",
      "stak-1  ['$', 'E1', 'T1', 'T2', ')', 'E']  point  (\n",
      "stak-1  ['$', 'E1', 'T1', 'T2', ')', 'E1', 'T']  point  (\n",
      "stak-1  ['$', 'E1', 'T1', 'T2', ')', 'E1', 'T1', 'R']  point  (\n",
      "stak-1  ['$', 'E1', 'T1', 'T2', ')', 'E1', 'T1', 'T2', 'F']  point  (\n",
      "(\n",
      "stak-1  ['$', 'E1', 'T1', 'T2', ')', 'E1', 'T1', 'T2', ')', 'E']  point  (\n",
      "stak-1  ['$', 'E1', 'T1', 'T2', ')', 'E1', 'T1', 'T2', ')', 'E1', 'T']  point  (\n",
      "stak-1  ['$', 'E1', 'T1', 'T2', ')', 'E1', 'T1', 'T2', ')', 'E1', 'T1', 'R']  point  (\n",
      "stak-1  ['$', 'E1', 'T1', 'T2', ')', 'E1', 'T1', 'T2', ')', 'E1', 'T1', 'T2', 'F']  point  (\n",
      "(\n",
      "stak-1  ['$', 'E1', 'T1', 'T2', ')', 'E1', 'T1', 'T2', ')', 'E1', 'T1', 'T2', ')', 'E']  point  (\n",
      "stak-1  ['$', 'E1', 'T1', 'T2', ')', 'E1', 'T1', 'T2', ')', 'E1', 'T1', 'T2', ')', 'E1', 'T']  point  (\n",
      "stak-1  ['$', 'E1', 'T1', 'T2', ')', 'E1', 'T1', 'T2', ')', 'E1', 'T1', 'T2', ')', 'E1', 'T1', 'R']  point  (\n",
      "stak-1  ['$', 'E1', 'T1', 'T2', ')', 'E1', 'T1', 'T2', ')', 'E1', 'T1', 'T2', ')', 'E1', 'T1', 'T2', 'F']  point  (\n",
      "(\n",
      "stak-1  ['$', 'E1', 'T1', 'T2', ')', 'E1', 'T1', 'T2', ')', 'E1', 'T1', 'T2', ')', 'E1', 'T1', 'T2', ')', 'E']  point  id\n",
      "stak-1  ['$', 'E1', 'T1', 'T2', ')', 'E1', 'T1', 'T2', ')', 'E1', 'T1', 'T2', ')', 'E1', 'T1', 'T2', ')', 'E1', 'T']  point  id\n",
      "stak-1  ['$', 'E1', 'T1', 'T2', ')', 'E1', 'T1', 'T2', ')', 'E1', 'T1', 'T2', ')', 'E1', 'T1', 'T2', ')', 'E1', 'T1', 'R']  point  id\n",
      "stak-1  ['$', 'E1', 'T1', 'T2', ')', 'E1', 'T1', 'T2', ')', 'E1', 'T1', 'T2', ')', 'E1', 'T1', 'T2', ')', 'E1', 'T1', 'T2', 'F']  point  id\n",
      "id\n",
      "stak-1  ['$', 'E1', 'T1', 'T2', ')', 'E1', 'T1', 'T2', ')', 'E1', 'T1', 'T2', ')', 'E1', 'T1', 'T2', ')', 'E1', 'T1', 'T2']  point  )\n",
      "stak-1  ['$', 'E1', 'T1', 'T2', ')', 'E1', 'T1', 'T2', ')', 'E1', 'T1', 'T2', ')', 'E1', 'T1', 'T2', ')', 'E1', 'T1']  point  )\n",
      "stak-1  ['$', 'E1', 'T1', 'T2', ')', 'E1', 'T1', 'T2', ')', 'E1', 'T1', 'T2', ')', 'E1', 'T1', 'T2', ')', 'E1']  point  )\n",
      ")\n",
      "stak-1  ['$', 'E1', 'T1', 'T2', ')', 'E1', 'T1', 'T2', ')', 'E1', 'T1', 'T2', ')', 'E1', 'T1', 'T2']  point  )\n",
      "stak-1  ['$', 'E1', 'T1', 'T2', ')', 'E1', 'T1', 'T2', ')', 'E1', 'T1', 'T2', ')', 'E1', 'T1']  point  )\n",
      "stak-1  ['$', 'E1', 'T1', 'T2', ')', 'E1', 'T1', 'T2', ')', 'E1', 'T1', 'T2', ')', 'E1']  point  )\n",
      ")\n",
      "stak-1  ['$', 'E1', 'T1', 'T2', ')', 'E1', 'T1', 'T2', ')', 'E1', 'T1', 'T2']  point  )\n",
      "stak-1  ['$', 'E1', 'T1', 'T2', ')', 'E1', 'T1', 'T2', ')', 'E1', 'T1']  point  )\n",
      "stak-1  ['$', 'E1', 'T1', 'T2', ')', 'E1', 'T1', 'T2', ')', 'E1']  point  )\n",
      ")\n",
      "stak-1  ['$', 'E1', 'T1', 'T2', ')', 'E1', 'T1', 'T2']  point  $\n",
      "stak-1  ['$', 'E1', 'T1', 'T2', ')', 'E1', 'T1']  point  $\n",
      "stak-1  ['$', 'E1', 'T1', 'T2', ')', 'E1']  point  $\n",
      ")\n",
      "\n",
      " Final Stack  ['$', 'E1', 'T1', 'T2']\n",
      "Errors while parsing\n"
     ]
    }
   ],
   "source": [
    "i=0\n",
    "stak = [\"$\",\"E\"]\n",
    "while i < (len(parsethis)):\n",
    "    if stak[-1]==\"$\":\n",
    "        break\n",
    "    if stak[-1]==\"eps\":\n",
    "        stak.pop()\n",
    "    elif isTerminal(stak[-1]):\n",
    "        print(stak.pop())\n",
    "        i=i+1\n",
    "    elif isNonTerminal(stak[-1]):\n",
    "        print(\"stak-1 \",stak,\" point \",parsethis[i])\n",
    "        try:\n",
    "            totlen = len(parsing_table[stak[-1]][parsethis[i]])\n",
    "            lis = parsing_table[stak[-1]][parsethis[i]]\n",
    "            popped = stak.pop()\n",
    "            for j in range(totlen):\n",
    "                stak.append(lis[totlen-j-1])\n",
    "        except:\n",
    "            print(\"Wrong syntax input fed\")\n",
    "            break\n",
    "\n",
    "print('\\n',\"Final Stack \",stak)   \n",
    "\n",
    "if stak[-1]==\"$\" and i == len(parsethis)-1:\n",
    "        print(\"Successfully Parsed\")\n",
    "else:\n",
    "        print(\"Errors while parsing\")"
   ]
  },
  {
   "cell_type": "code",
   "execution_count": null,
   "metadata": {},
   "outputs": [],
   "source": []
  },
  {
   "cell_type": "code",
   "execution_count": null,
   "metadata": {},
   "outputs": [],
   "source": []
  }
 ],
 "metadata": {
  "kernelspec": {
   "display_name": "Python 3",
   "language": "python",
   "name": "python3"
  },
  "language_info": {
   "codemirror_mode": {
    "name": "ipython",
    "version": 3
   },
   "file_extension": ".py",
   "mimetype": "text/x-python",
   "name": "python",
   "nbconvert_exporter": "python",
   "pygments_lexer": "ipython3",
   "version": "3.7.1rc2"
  }
 },
 "nbformat": 4,
 "nbformat_minor": 2
}
